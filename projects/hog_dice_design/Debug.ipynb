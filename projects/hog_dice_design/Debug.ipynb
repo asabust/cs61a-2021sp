{
 "cells": [
  {
   "cell_type": "code",
   "execution_count": 1,
   "metadata": {},
   "outputs": [
    {
     "data": {
      "text/plain": [
       "0"
      ]
     },
     "execution_count": 1,
     "metadata": {},
     "output_type": "execute_result"
    }
   ],
   "source": [
    "from hog import *\n",
    "\n",
    "more_boar_strategy(3, 19, cutoff=8, num_rolls=6)"
   ]
  },
  {
   "cell_type": "code",
   "execution_count": 2,
   "metadata": {},
   "outputs": [
    {
     "data": {
      "text/plain": [
       "6"
      ]
     },
     "execution_count": 2,
     "metadata": {},
     "output_type": "execute_result"
    }
   ],
   "source": [
    "more_boar_strategy(30, 54, cutoff=7, num_rolls=6)"
   ]
  },
  {
   "cell_type": "code",
   "execution_count": 3,
   "metadata": {},
   "outputs": [
    {
     "data": {
      "text/plain": [
       "0"
      ]
     },
     "execution_count": 3,
     "metadata": {},
     "output_type": "execute_result"
    }
   ],
   "source": [
    "more_boar_strategy(17, 36, cutoff=100, num_rolls=6)"
   ]
  },
  {
   "cell_type": "code",
   "execution_count": 4,
   "metadata": {},
   "outputs": [
    {
     "data": {
      "text/plain": [
       "0"
      ]
     },
     "execution_count": 4,
     "metadata": {},
     "output_type": "execute_result"
    }
   ],
   "source": [
    "more_boar_strategy(24, 3, cutoff=8, num_rolls=6)"
   ]
  },
  {
   "cell_type": "code",
   "execution_count": 1,
   "metadata": {},
   "outputs": [
    {
     "name": "stdout",
     "output_type": "stream",
     "text": [
      "num 1  average: 3.496\n",
      "num 2  average: 5.726\n",
      "num 3  average: 7.147\n",
      "num 4  average: 7.86\n",
      "num 5  average: 8.489\n",
      "num 6  average: 8.581\n",
      "num 7  average: 8.171\n",
      "num 8  average: 8.663\n",
      "num 9  average: 8.132\n",
      "num 10  average: 7.672\n"
     ]
    },
    {
     "data": {
      "text/plain": [
       "8"
      ]
     },
     "execution_count": 1,
     "metadata": {},
     "output_type": "execute_result"
    }
   ],
   "source": [
    "from hog import *\n",
    "dice = make_test_dice(3) \n",
    "max_scoring_num_rolls(dice, trials_count=1000)"
   ]
  },
  {
   "cell_type": "markdown",
   "metadata": {},
   "source": [
    "from hog import play, always_roll, announce_highest, both"
   ]
  },
  {
   "cell_type": "markdown",
   "metadata": {},
   "source": [
    "from dice import make_test_dice"
   ]
  },
  {
   "cell_type": "markdown",
   "metadata": {},
   "source": [
    "f0 = announce_highest(1)"
   ]
  },
  {
   "cell_type": "markdown",
   "metadata": {},
   "source": [
    "f1 = f0(12, 0)"
   ]
  },
  {
   "cell_type": "markdown",
   "metadata": {},
   "source": [
    "f2 = f1(12, 10)"
   ]
  },
  {
   "cell_type": "markdown",
   "metadata": {},
   "source": [
    "f3 = f2(20, 10)"
   ]
  },
  {
   "cell_type": "markdown",
   "metadata": {},
   "source": [
    "f4 = f3(22, 20)"
   ]
  },
  {
   "cell_type": "markdown",
   "metadata": {},
   "source": [
    "f5 = f4(20, 47)"
   ]
  },
  {
   "cell_type": "markdown",
   "metadata": {},
   "source": [
    "from hog import play, always_roll, both, announce_lead_changes, say_scores, announce_highest\n",
    "from dice import make_test_dice\n",
    "\n",
    "def total(s0, s1):\n",
    "    print(s0 + s1)\n",
    "    return echo\n",
    "\n",
    "def echo(s0, s1):\n",
    "    print(s0, s1)\n",
    "    return echo\n"
   ]
  },
  {
   "cell_type": "markdown",
   "metadata": {},
   "source": [
    "hi = both(announce_highest(0), both(announce_highest(1), announce_lead_changes()))\n",
    "s0, s1 = play(always_roll(1), always_roll(1), dice=make_test_dice(8, 2), goal=20, say=hi)"
   ]
  }
 ],
 "metadata": {
  "kernelspec": {
   "display_name": "Python 3",
   "language": "python",
   "name": "python3"
  },
  "language_info": {
   "codemirror_mode": {
    "name": "ipython",
    "version": 3
   },
   "file_extension": ".py",
   "mimetype": "text/x-python",
   "name": "python",
   "nbconvert_exporter": "python",
   "pygments_lexer": "ipython3",
   "version": "3.8.5"
  }
 },
 "nbformat": 4,
 "nbformat_minor": 4
}
