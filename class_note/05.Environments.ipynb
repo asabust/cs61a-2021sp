{
 "cells": [
  {
   "cell_type": "markdown",
   "metadata": {},
   "source": [
    "## Environments\n",
    "\n",
    "- Lecture 3: Control [Video](https://www.youtube.com/watch?v=T_nf9Uxai8w&list=PL6BsET-8jgYXytPK09lJ5y9iUqZ445lCX) [Q&A](https://youtu.be/8sZN8QcbdVI) [full](https://inst.eecs.berkeley.edu/~cs61a/fa20/assets/slides/03-Control_full.pdf) [1pp](https://inst.eecs.berkeley.edu/~cs61a/fa20/assets/slides/03-Control_1pp.pdf) [8pp](https://inst.eecs.berkeley.edu/~cs61a/fa20/assets/slides/03-Control_8pp.pdf) [03.py](https://code.cs61a.org/fa20/03.py)\n",
    "\n",
    "- Lecture 4: Higher-Order Functions [Video](https://www.youtube.com/watch?v=SsznmbwosLQ&list=PL6BsET-8jgYXeefqDPnwLJ03jyw5-KKTT) [Q&A](https://youtu.be/ad5min4UhGM) [full](https://inst.eecs.berkeley.edu/~cs61a/fa20/assets/slides/04-Higher-Order_Functions_full.pdf) [1pp](https://inst.eecs.berkeley.edu/~cs61a/fa20/assets/slides/04-Higher-Order_Functions_1pp.pdf) [8pp](https://inst.eecs.berkeley.edu/~cs61a/fa20/assets/slides/04-Higher-Order_Functions_8pp.pdf) [04.py](https://code.cs61a.org/fa20/04.py)\n",
    "\n",
    "- Lecture 5: Environments [Video](https://www.youtube.com/watch?v=iC6bdDVxeds&list=PL6BsET-8jgYXhzd5ou1faNsWVoWBRUY8q) [Q&A](https://youtu.be/IL6ojXo7naI) [full](https://inst.eecs.berkeley.edu/~cs61a/fa20/assets/slides/05-Environments_full.pdf) [1pp](https://inst.eecs.berkeley.edu/~cs61a/fa20/assets/slides/05-Environments_1pp.pdf) [8pp](https://inst.eecs.berkeley.edu/~cs61a/fa20/assets/slides/05-Environments_8pp.pdf) [05.py](https://code.cs61a.org/fa20/05.py)\n",
    "\n",
    "- Week 2 Readings: [Ch. 1.3](http://composingprograms.com/pages/13-defining-new-functions.html) [Ch. 1.6](http://composingprograms.com/pages/16-higher-order-functions.html) [Ch. 1.4](http://composingprograms.com/pages/14-designing-functions.html) [Ch. 1.5](http://composingprograms.com/pages/15-control.html)\n",
    "\n",
    "- [Disc 01: Environment Diagrams, Control](https://inst.eecs.berkeley.edu/~cs61a/fa20/disc/disc01.pdf)\n",
    "\n",
    "### 21sp Class Material\n",
    "\n",
    "- [Disc 01: Environment Diagrams, Control](https://cs61a.org/disc/disc01/) [Solutions](https://cs61a.org/disc/sol-disc01/)\n",
    "\n",
    "- [(Optional) Exam Prep 01: Control, Higher-Order Functions](https://cs61a.org/examprep/examprep01/) [Solutions](https://cs61a.org/examprep/sol-examprep01/)\n"
   ]
  },
  {
   "cell_type": "markdown",
   "metadata": {},
   "source": [
    "## Environments for Higher-Order Functions\n",
    "\n",
    "_Functions are first-class: Functions are values in our programming language_\n",
    "\n",
    "Higher-order function: \n",
    "\n",
    "- A function that takes a function as an argument value or \n",
    "- A function that returns a function as a return value"
   ]
  },
  {
   "cell_type": "code",
   "execution_count": 2,
   "metadata": {
    "scrolled": true
   },
   "outputs": [
    {
     "data": {
      "text/plain": [
       "16"
      ]
     },
     "execution_count": 2,
     "metadata": {},
     "output_type": "execute_result"
    }
   ],
   "source": [
    "# Functional arguments\n",
    "\n",
    "def apply_twice(f, x):\n",
    "    \"\"\"Return f(f(x))\n",
    "\n",
    "    >>> apply_twice(square, 2)\n",
    "    16\n",
    "    >>> from math import sqrt\n",
    "    >>> apply_twice(sqrt, 16)\n",
    "    2.0\n",
    "    \"\"\"\n",
    "    return f(f(x))\n",
    "\n",
    "def square(x):\n",
    "    return x * x\n",
    "\n",
    "apply_twice(square, 2)"
   ]
  },
  {
   "cell_type": "code",
   "execution_count": 6,
   "metadata": {},
   "outputs": [],
   "source": [
    "# 小练习: 分析一下程序的返回值\n",
    "\n",
    "def repeat(f, x):\n",
    "    while f(x) != x:\n",
    "        x = f(x)\n",
    "    return x\n",
    "\n",
    "def g(y):\n",
    "    return (y + 5) // 3\n",
    "\n",
    "result = repeat(g, 5)\n",
    "# print(result)"
   ]
  },
  {
   "cell_type": "markdown",
   "metadata": {},
   "source": [
    "## Environments for Nested Definitions 嵌套定义\n",
    "\n",
    "- Every user-defined function has a parent frame (often global)\n",
    "- The parent of a function is the frame in which it was defined\n",
    "- Every local frame has a parent frame (often global)\n",
    "- The parent of a frame is the parent of the function called\n",
    "\n",
    "[pythontutor 调用栈演示](http://pythontutor.com/composingprograms.html#code=def%20make_adder%28n%29%3A%0A%20%20%20%20def%20adder%28k%29%3A%0A%20%20%20%20%20%20%20%20return%20k%20%2B%20n%0A%20%20%20%20return%20adder%0A%20%20%20%20%0Athree_more_than%20%3D%20make_adder%283%29%0Aresult%20%3D%20three_more_than%284%29&cumulative=false&curInstr=0&mode=display&origin=composingprograms.js&py=3&rawInputLstJSON=%5B%5D)"
   ]
  },
  {
   "cell_type": "code",
   "execution_count": null,
   "metadata": {},
   "outputs": [],
   "source": [
    "# Functional return values\n",
    "\n",
    "def make_adder(n):\n",
    "    \"\"\"Return a function that takes one argument k and returns k + n.\n",
    "\n",
    "    >>> add_three = make_adder(3)\n",
    "    >>> add_three(4)\n",
    "    7\n",
    "    \"\"\"\n",
    "    def adder(k):\n",
    "        return k + n\n",
    "    return adder\n",
    "\n",
    "add_three = make_adder(3)\n",
    "add_three(4)"
   ]
  },
  {
   "cell_type": "markdown",
   "metadata": {},
   "source": [
    "#### How to Draw an Environment Diagram\n",
    "\n",
    "##### When a function is defined:\n",
    "\n",
    "Create a function value: `func <name>(<formal parameters>) [parent=<label>]` Its parent is the current frame.\n",
    "\n",
    "\n",
    "##### When a function is called:\n",
    "\n",
    "1. Add a local frame, titled with the `<name>` of the function being called.\n",
    "\n",
    "2. Copy the parent of the function to the local frame: `[parent=<label>]`\n",
    "\n",
    "3. Bind the `<formal parameters>` to the arguments in the local frame.(重要!!!)\n",
    "\n",
    "4. Execute the body of the function in the environment that starts with the local frame.\n",
    "\n",
    "> 要点就是要知道从哪里调用来的，不同的父级对应不同的孩子"
   ]
  },
  {
   "cell_type": "markdown",
   "metadata": {},
   "source": [
    "## Local Names are not Visible to Other (Non-Nested) Functions\n",
    "\n",
    "- An environment is a sequence of frames.\n",
    "- The environment created by calling a top-level function (no def within def) consists of one local frame, followed by the global frame.\n"
   ]
  },
  {
   "cell_type": "code",
   "execution_count": null,
   "metadata": {},
   "outputs": [],
   "source": [
    "##### Lexical scope and returning functions\n",
    "\n",
    "def f(x, y):\n",
    "    return g(x)\n",
    "\n",
    "def g(a):\n",
    "    return a + y\n",
    "\n",
    "# This expression causes an error because y is not bound in g.\n",
    "# f(1, 2)"
   ]
  },
  {
   "cell_type": "markdown",
   "metadata": {},
   "source": [
    "## Lambda Expressions\n",
    "\n",
    "1. No \"return\" keyword!\n",
    "2. Must be a single expression"
   ]
  },
  {
   "cell_type": "code",
   "execution_count": 15,
   "metadata": {},
   "outputs": [
    {
     "data": {
      "text/plain": [
       "16"
      ]
     },
     "execution_count": 15,
     "metadata": {},
     "output_type": "execute_result"
    }
   ],
   "source": [
    "# Lambda expressions\n",
    "\n",
    "x = 10\n",
    "square = x * x\n",
    "square = lambda x: x * x\n",
    "square(4)"
   ]
  },
  {
   "cell_type": "markdown",
   "metadata": {},
   "source": [
    "## Function Composition\n",
    "\n",
    "一个综合例子"
   ]
  },
  {
   "cell_type": "code",
   "execution_count": 10,
   "metadata": {},
   "outputs": [],
   "source": [
    "# Composition\n",
    "\n",
    "def compose1(f, g):\n",
    "    \"\"\"Return a function that composes f and g.\n",
    "\n",
    "    f, g -- functions of a single argument\n",
    "    \"\"\"\n",
    "    def h(x):\n",
    "        return f(g(x))\n",
    "    return h\n",
    "\n",
    "def triple(x):\n",
    "    return 3 * x\n",
    "\n",
    "squiple = compose1(square, triple)\n",
    "tripare = compose1(triple, square)\n",
    "squadder = compose1(square, make_adder(2))"
   ]
  },
  {
   "cell_type": "code",
   "execution_count": 16,
   "metadata": {},
   "outputs": [
    {
     "data": {
      "text/plain": [
       "225"
      ]
     },
     "execution_count": 16,
     "metadata": {},
     "output_type": "execute_result"
    }
   ],
   "source": [
    "squiple(5)\n",
    "# (5*3)^2"
   ]
  },
  {
   "cell_type": "code",
   "execution_count": 13,
   "metadata": {},
   "outputs": [
    {
     "data": {
      "text/plain": [
       "75"
      ]
     },
     "execution_count": 13,
     "metadata": {},
     "output_type": "execute_result"
    }
   ],
   "source": [
    "tripare(5)\n",
    "# (5^2)*3"
   ]
  },
  {
   "cell_type": "code",
   "execution_count": 17,
   "metadata": {},
   "outputs": [
    {
     "data": {
      "text/plain": [
       "25"
      ]
     },
     "execution_count": 17,
     "metadata": {},
     "output_type": "execute_result"
    }
   ],
   "source": [
    "squadder(3)\n",
    "# (3+2)^2"
   ]
  },
  {
   "cell_type": "markdown",
   "metadata": {},
   "source": [
    "## Self-Reference\n",
    "\n",
    "> 我返回我自己\n",
    "\n",
    "[print_sums 调用栈演示](http://pythontutor.com/composingprograms.html#code=def%20print_sums%28n%29%3A%0A%20%20%20%20print%28n%29%0A%20%20%20%20def%20next_sum%28k%29%3A%0A%20%20%20%20%20%20%20%20return%20print_sums%28n%2Bk%29%0A%20%20%20%20return%20next_sum%0A%0Aprint_sums%281%29%283%29%285%29&cumulative=true&curInstr=0&mode=display&origin=composingprograms.js&py=3&rawInputLstJSON=%5B%5D)"
   ]
  },
  {
   "cell_type": "code",
   "execution_count": 18,
   "metadata": {},
   "outputs": [
    {
     "name": "stdout",
     "output_type": "stream",
     "text": [
      "1\n",
      "2\n"
     ]
    }
   ],
   "source": [
    "# Self Reference\n",
    "\n",
    "def print_all(k):\n",
    "    \"\"\"Print all arguments of repeated calls.\n",
    "\n",
    "    >>> f = print_all(1)(2)(3)(4)(5)\n",
    "    1\n",
    "    2\n",
    "    3\n",
    "    4\n",
    "    5\n",
    "    \"\"\"\n",
    "    print(k)\n",
    "    return print_all\n",
    "\n",
    "def print_sums(n):\n",
    "    \"\"\"Print all sums of arguments of repeated calls.\n",
    "\n",
    "    >>> f = print_sums(1)(2)(3)(4)(5)\n",
    "    1\n",
    "    3\n",
    "    6\n",
    "    10\n",
    "    15\n",
    "    \"\"\"\n",
    "    print(n)\n",
    "    def next_sum(k):\n",
    "        return print_sums(n+k)\n",
    "    return next_sum\n",
    "\n",
    "f = print_all(1)(2)"
   ]
  },
  {
   "cell_type": "markdown",
   "metadata": {},
   "source": [
    "### Function Currying\n",
    "\n",
    "Curry: Transform a multi-argument function into a single-argument, higher-order function\n",
    "\n",
    "> 柯里化\n",
    ">\n",
    "> 在计算机科学中，柯里化（英语：Currying），是把接受多个参数的函数变换成接受一个单一参数（最初函数的第一个参数）的函数，并且返回接受余下的参数而且返回结果的新函数的技术。"
   ]
  },
  {
   "cell_type": "code",
   "execution_count": 19,
   "metadata": {},
   "outputs": [
    {
     "data": {
      "text/plain": [
       "7"
      ]
     },
     "execution_count": 19,
     "metadata": {},
     "output_type": "execute_result"
    }
   ],
   "source": [
    "# Currying\n",
    "\n",
    "from operator import add, mul\n",
    "\n",
    "def curry2(f):\n",
    "    \"\"\"Curry a two-argument function.\n",
    "\n",
    "    >>> m = curry2(add)\n",
    "    >>> add_three = m(3)\n",
    "    >>> add_three(4)\n",
    "    7\n",
    "    >>> m(2)(1)\n",
    "    3\n",
    "    \"\"\"\n",
    "    def g(x):\n",
    "        def h(y):\n",
    "            return f(x, y)\n",
    "        return h\n",
    "    return g\n",
    "\n",
    "m = curry2(add)\n",
    "add_three = m(3)\n",
    "add_three(4)"
   ]
  }
 ],
 "metadata": {
  "kernelspec": {
   "display_name": "Python 3",
   "language": "python",
   "name": "python3"
  },
  "language_info": {
   "codemirror_mode": {
    "name": "ipython",
    "version": 3
   },
   "file_extension": ".py",
   "mimetype": "text/x-python",
   "name": "python",
   "nbconvert_exporter": "python",
   "pygments_lexer": "ipython3",
   "version": "3.8.5"
  }
 },
 "nbformat": 4,
 "nbformat_minor": 4
}
