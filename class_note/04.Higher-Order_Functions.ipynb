{
 "cells": [
  {
   "cell_type": "markdown",
   "metadata": {},
   "source": [
    "# Higher-Order Functions\n",
    "\n",
    "- Lecture 3: Control [Video](https://www.youtube.com/watch?v=T_nf9Uxai8w&list=PL6BsET-8jgYXytPK09lJ5y9iUqZ445lCX) [Q&A](https://youtu.be/8sZN8QcbdVI) [full](https://inst.eecs.berkeley.edu/~cs61a/fa20/assets/slides/03-Control_full.pdf) [1pp](https://inst.eecs.berkeley.edu/~cs61a/fa20/assets/slides/03-Control_1pp.pdf) [8pp](https://inst.eecs.berkeley.edu/~cs61a/fa20/assets/slides/03-Control_8pp.pdf) [03.py](https://code.cs61a.org/fa20/03.py)\n",
    "\n",
    "- Lecture 4: Higher-Order Functions [Video](https://www.youtube.com/watch?v=SsznmbwosLQ&list=PL6BsET-8jgYXeefqDPnwLJ03jyw5-KKTT) [Q&A](https://youtu.be/ad5min4UhGM) [full](https://inst.eecs.berkeley.edu/~cs61a/fa20/assets/slides/04-Higher-Order_Functions_full.pdf) [1pp](https://inst.eecs.berkeley.edu/~cs61a/fa20/assets/slides/04-Higher-Order_Functions_1pp.pdf) [8pp](https://inst.eecs.berkeley.edu/~cs61a/fa20/assets/slides/04-Higher-Order_Functions_8pp.pdf) [04.py](https://code.cs61a.org/fa20/04.py)\n",
    "\n",
    "- Lecture 5: Environments [Video](https://www.youtube.com/watch?v=iC6bdDVxeds&list=PL6BsET-8jgYXhzd5ou1faNsWVoWBRUY8q) [Q&A](https://youtu.be/IL6ojXo7naI) [full](https://inst.eecs.berkeley.edu/~cs61a/fa20/assets/slides/05-Environments_full.pdf) [1pp](https://inst.eecs.berkeley.edu/~cs61a/fa20/assets/slides/05-Environments_1pp.pdf) [8pp](https://inst.eecs.berkeley.edu/~cs61a/fa20/assets/slides/05-Environments_8pp.pdf) [05.py](https://code.cs61a.org/fa20/05.py)\n",
    "\n",
    "- Week 2 Readings: [Ch. 1.3](http://composingprograms.com/pages/13-defining-new-functions.html) [Ch. 1.6](http://composingprograms.com/pages/16-higher-order-functions.html) [Ch. 1.4](http://composingprograms.com/pages/14-designing-functions.html) [Ch. 1.5](http://composingprograms.com/pages/15-control.html)\n",
    "\n",
    "- [Disc 01: Environment Diagrams, Control](https://inst.eecs.berkeley.edu/~cs61a/fa20/disc/disc01.pdf)\n",
    "\n",
    "### 21sp Class Material\n",
    "\n",
    "- [Disc 01: Environment Diagrams, Control](https://cs61a.org/disc/disc01/) [Solutions](https://cs61a.org/disc/sol-disc01/)\n",
    "\n",
    "- [(Optional) Exam Prep 01: Control, Higher-Order Functions](https://cs61a.org/examprep/examprep01/) [Solutions](https://cs61a.org/examprep/sol-examprep01/)\n"
   ]
  },
  {
   "cell_type": "markdown",
   "metadata": {},
   "source": [
    "## Designing Functions\n",
    "\n",
    "\n",
    "### Describing Functions\n",
    "\n",
    "- A function's domain is the set of all inputs it might possibly take as arguments.\n",
    "- A function's range is the set of output values it might possibly return.\n",
    "- A pure function's _behavior_ is the relationship it creates between input and output.\n",
    "\n",
    "`def square(x): Return X * X`\n",
    "\n",
    "- x is a number\n",
    "- square returns a nonnegative real number\n",
    "- square returns the square of x\n",
    "\n",
    "> Don’t repeat yourself (DRY):\n",
    "> Implement a process just once, but execute it many times\n"
   ]
  },
  {
   "cell_type": "code",
   "execution_count": 1,
   "metadata": {},
   "outputs": [],
   "source": [
    "# DRY\n",
    "\n",
    "from math import sqrt\n",
    "from operator import mul\n",
    "from math import pi, sqrt\n",
    "\n",
    "\n",
    "def same_length(a, b):\n",
    "    \"\"\"Return whether positive integers a and b have the same number of digits.\n",
    "\n",
    "    >>> same_length(50, 70)\n",
    "    True\n",
    "    >>> same_length(50, 100)\n",
    "    False\n",
    "    >>> same_length(1000, 100000)\n",
    "    False\n",
    "    \"\"\"\n",
    "    return digits(a) == digits(b)\n",
    "    # a_digits = 0\n",
    "    # while a > 0:\n",
    "    #     a = a // 10\n",
    "    #     a_digits = a_digits + 1\n",
    "    # b_digits = 0\n",
    "    # while b > 0:\n",
    "    #     b = b // 10\n",
    "    #     b_digits = b_digits + 1\n",
    "    # return a_digits == b_digits\n",
    "\n",
    "\n",
    "def digits(a):\n",
    "    a_digits = 0\n",
    "    while a > 0:\n",
    "        a = a // 10\n",
    "        a_digits = a_digits + 1\n",
    "    return a_digits\n"
   ]
  },
  {
   "cell_type": "markdown",
   "metadata": {},
   "source": [
    "## Generalization\n",
    "\n",
    "Regular geometric shapes relate length and area."
   ]
  },
  {
   "cell_type": "code",
   "execution_count": null,
   "metadata": {},
   "outputs": [],
   "source": [
    "# Generalizing patterns using arguments\n",
    "\n",
    "\n",
    "def area_square(r):\n",
    "    \"\"\"Return the area of a square with side length R.\"\"\"\n",
    "    return r * r\n",
    "\n",
    "\n",
    "def area_circle(r):\n",
    "    \"\"\"Return the area of a circle with radius R.\"\"\"\n",
    "    return r * r * pi\n",
    "\n",
    "\n",
    "def area_hexagon(r):\n",
    "    \"\"\"Return the area of a regular hexagon with side length R.\"\"\"\n",
    "    return r * r * 3 * sqrt(3) / 2\n",
    "\n",
    "\n",
    "def area(r, shape_constant):\n",
    "    \"\"\"Return the area of a shape from length measurement R.\"\"\"\n",
    "    assert r > 0, 'A length must be positive'\n",
    "    return r * r * shape_constant\n",
    "\n",
    "\n",
    "def area_square(r):\n",
    "    return area(r, 1)\n",
    "\n",
    "\n",
    "def area_circle(r):\n",
    "    return area(r, pi)\n",
    "\n",
    "\n",
    "def area_hexagon(r):\n",
    "    return area(r, 3 * sqrt(3) / 2)"
   ]
  },
  {
   "cell_type": "markdown",
   "metadata": {},
   "source": [
    "## Higher-Order Functions\n",
    "\n",
    "The common structure among functions may be a computational process, rather than a number.\n",
    "\n",
    "`0 + 1 + 8 + 27 + 64 + 125 = 225`"
   ]
  },
  {
   "cell_type": "code",
   "execution_count": 3,
   "metadata": {},
   "outputs": [
    {
     "data": {
      "text/plain": [
       "225"
      ]
     },
     "execution_count": 3,
     "metadata": {},
     "output_type": "execute_result"
    }
   ],
   "source": [
    "def cube(k):\n",
    "    return pow(k, 3)\n",
    "\n",
    "def summation(n, term):\n",
    "    \"\"\"sum the first n terms of a sequence.\n",
    "    \n",
    "    >>> summation(5, cube)\n",
    "    225\n",
    "    \"\"\"\n",
    "    total, k = 0, 1\n",
    "    while k <= n:\n",
    "        total, k = total + term(k), k+1\n",
    "        \n",
    "    return total\n",
    "\n",
    "summation(5, cube)"
   ]
  },
  {
   "cell_type": "markdown",
   "metadata": {},
   "source": [
    "## Functions as Return Values"
   ]
  },
  {
   "cell_type": "code",
   "execution_count": 4,
   "metadata": {},
   "outputs": [
    {
     "data": {
      "text/plain": [
       "3.141592153589902"
      ]
     },
     "execution_count": 4,
     "metadata": {},
     "output_type": "execute_result"
    }
   ],
   "source": [
    "# Functions as arguments\n",
    "\n",
    "\n",
    "def sum_naturals(n):\n",
    "    \"\"\"Sum the first N natural numbers.\n",
    "\n",
    "    >>> sum_naturals(5)\n",
    "    15\n",
    "    \"\"\"\n",
    "    total, k = 0, 1\n",
    "    while k <= n:\n",
    "        total, k = total + k, k + 1\n",
    "    return total\n",
    "\n",
    "\n",
    "def sum_cubes(n):\n",
    "    \"\"\"Sum the first N cubes of natural numbers.\n",
    "\n",
    "    >>> sum_cubes(5)\n",
    "    225\n",
    "    \"\"\"\n",
    "    total, k = 0, 1\n",
    "    while k <= n:\n",
    "        total, k = total + pow(k, 3), k + 1\n",
    "    return total\n",
    "\n",
    "\n",
    "def identity(k):\n",
    "    return k\n",
    "\n",
    "\n",
    "def cube(k):\n",
    "    return pow(k, 3)\n",
    "\n",
    "\n",
    "def summation(n, term):\n",
    "    \"\"\"Sum the first N terms of a sequence.\n",
    "\n",
    "    >>> summation(5, cube)\n",
    "    225\n",
    "    \"\"\"\n",
    "    total, k = 0, 1\n",
    "    while k <= n:\n",
    "        total, k = total + term(k), k + 1\n",
    "    return total\n",
    "\n",
    "\n",
    "def pi_term(k):\n",
    "    return 8 / mul(k * 4 - 3, k * 4 - 1)\n",
    "\n",
    "\n",
    "summation(1000000, pi_term)"
   ]
  },
  {
   "cell_type": "markdown",
   "metadata": {},
   "source": [
    "### Locally Defined Functions\n",
    "\n",
    "Functions defined within other function bodies are bound to names in a local frame"
   ]
  },
  {
   "cell_type": "code",
   "execution_count": 5,
   "metadata": {},
   "outputs": [
    {
     "data": {
      "text/plain": [
       "2020"
      ]
     },
     "execution_count": 5,
     "metadata": {},
     "output_type": "execute_result"
    }
   ],
   "source": [
    "# Local function definitions; returning functions\n",
    "\n",
    "\n",
    "def make_adder(n):\n",
    "    \"\"\"Return a function that takes one argument K and returns K + N.\n",
    "\n",
    "    >>> add_three = make_adder(3)\n",
    "    >>> add_three(4)\n",
    "    7\n",
    "    \"\"\"\n",
    "    def adder(k):\n",
    "        return k + n\n",
    "    return adder\n",
    "\n",
    "\n",
    "make_adder(2000)(20)"
   ]
  },
  {
   "cell_type": "markdown",
   "metadata": {},
   "source": [
    "## Lambda Expressions\n",
    "\n",
    "\n",
    "`square = x * x`\n",
    "\n",
    "An expression: this one evaluates to a number\n",
    "\n",
    "`square = lambda x: x * x`\n",
    "\n",
    "Also an expression: evaluates to a function\n",
    "\n",
    "- Important: No \"return\" keyword!\n",
    "- Must be a single expression.\n",
    "- Lambda expressions in Python cannot contain statements at all!\n"
   ]
  },
  {
   "cell_type": "markdown",
   "metadata": {},
   "source": [
    "### Lambda Expressions Versus Def Statements\n",
    "\n",
    "- Both create a function with the same domain, range, and behavior.\n",
    "- Both bind that function to the name square.\n",
    "- Only the def statement gives the function an _intrinsic name_, which shows up in environment diagrams but doesn't affect execution (unless the function is printed).\n"
   ]
  },
  {
   "cell_type": "code",
   "execution_count": 6,
   "metadata": {},
   "outputs": [
    {
     "data": {
      "text/plain": [
       "16"
      ]
     },
     "execution_count": 6,
     "metadata": {},
     "output_type": "execute_result"
    }
   ],
   "source": [
    "# Lambda expressions\n",
    "\n",
    "x = 10\n",
    "square = x * x\n",
    "def square(x): return x * x\n",
    "\n",
    "\n",
    "square(4)"
   ]
  },
  {
   "cell_type": "markdown",
   "metadata": {},
   "source": [
    "## Return Statements\n",
    "\n",
    "A return statement completes the evaluation of a call expression and provides its value:\n",
    "\n",
    "f(x) for user-defined function f: switch to a new environment; execute f's body `return` statement within f: switch back to the previous environment; f(x) now has a value \n",
    "\n",
    "Only one return statement is ever executed while executing the body of a function"
   ]
  },
  {
   "cell_type": "code",
   "execution_count": null,
   "metadata": {},
   "outputs": [],
   "source": [
    "# Return\n",
    "\n",
    "\n",
    "def end(n, d):\n",
    "    \"\"\"Print the final digits of N in reverse order until D is found.    \n",
    "\n",
    "    >>> end(34567, 5)\n",
    "    7\n",
    "    6\n",
    "    5\n",
    "    \"\"\"\n",
    "    while n > 0:\n",
    "        last, n = n % 10, n // 10\n",
    "        print(last)\n",
    "        if d == last:\n",
    "            return None\n",
    "\n",
    "\n",
    "def search(f):\n",
    "    \"\"\"Return the smallest non-negative integer x for which f(x) is a true value.\"\"\"\n",
    "    x = 0\n",
    "    while True:\n",
    "        if f(x):\n",
    "            return x\n",
    "        x += 1\n",
    "\n",
    "\n",
    "def is_three(x):\n",
    "    \"\"\"Return whether x is three.\n",
    "\n",
    "    >>> search(is_three)\n",
    "    3\n",
    "    \"\"\"\n",
    "    return x == 3\n",
    "\n",
    "\n",
    "def square(x):\n",
    "    return x * x\n",
    "\n",
    "\n",
    "def positive(x):\n",
    "    \"\"\"A function that is 0 until square(x)-100 is positive.\n",
    "\n",
    "    >>> search(positive)\n",
    "    11\n",
    "    \"\"\"\n",
    "    return max(0, square(x) - 100)\n",
    "\n",
    "\n",
    "def inverse(f):\n",
    "    \"\"\"Return a function g(y) that returns x such that f(x) == y.\n",
    "\n",
    "    >>> sqrt = inverse(square)\n",
    "    >>> sqrt(16)\n",
    "    4\n",
    "    \"\"\"\n",
    "    return lambda y: search(lambda x: f(x) == y)"
   ]
  },
  {
   "cell_type": "markdown",
   "metadata": {},
   "source": [
    "### If Statements and Call Expressions\n",
    "\n",
    "#### Execution Rule for Conditional Statements:\n",
    "\n",
    "Each clause is considered in order.\n",
    "\n",
    "1. Evaluate the header's expression (if present).\n",
    "2. If it is a true value (or an else header), execute the suite & skip the remaining clauses.\n",
    "\n",
    "> 短路法则，if 真 or ... 后面的不会执行了，直接返回真\n",
    "\n",
    "#### Evaluation Rule for Call Expressions:\n",
    "\n",
    "1. Evaluate the operator and then the operand subexpressions\n",
    "\n",
    "2. Apply the function that is the value of the operator to the arguments that are the values of the operands\n",
    "\n",
    "> 先执行，再用返回值计算。\n"
   ]
  },
  {
   "cell_type": "markdown",
   "metadata": {},
   "source": [
    "### Logical Operators\n",
    "\n",
    "To evaluate the expression `<left> and <right>`:\n",
    "\n",
    "1. Evaluate the subexpression `<left>`.\n",
    "\n",
    "2. If the result is a false value `v`, then the expression evaluates to `v`.\n",
    "\n",
    "3. Otherwise, the expression evaluates to the value of the subexpression `<right>`.\n",
    "\n",
    "To evaluate the expression `<left> or <right>`:\n",
    "\n",
    "1. Evaluate the subexpression `<left>`.\n",
    "\n",
    "2. If the result is a true value `v`, then the expression evaluates to `v`.\n",
    "\n",
    "3. Otherwise, the expression evaluates to the value of the subexpression `<right>`."
   ]
  },
  {
   "cell_type": "code",
   "execution_count": null,
   "metadata": {},
   "outputs": [],
   "source": [
    "# Control\n",
    "\n",
    "\n",
    "def if_(c, t, f):\n",
    "    if c:\n",
    "        t\n",
    "    else:\n",
    "        f\n",
    "\n",
    "\n",
    "def real_sqrt(x):\n",
    "    \"\"\"Return the real part of the square root of x.\n",
    "\n",
    "    >>> real_sqrt(4)\n",
    "    2.0\n",
    "    >>> real_sqrt(-4)\n",
    "    0.0\n",
    "    \"\"\"\n",
    "    if x > 0:\n",
    "        return sqrt(x)\n",
    "    else:\n",
    "        return 0.0\n",
    "    # if_(x > 0, sqrt(x), 0.0)"
   ]
  },
  {
   "cell_type": "markdown",
   "metadata": {},
   "source": [
    "A conditional expression has the form `<consequent> if <predicate> else <alternative> `\n",
    "\n",
    "Evaluation rule:\n",
    "\n",
    "1. Evaluate the `<predicate>` expression.\n",
    "\n",
    "2. If it's a true value, the value of the whole expression is the value of the `<consequent>`.\n",
    "\n",
    "3. Otherwise, the value of the whole expression is the value of the `<alternative>`.\n",
    "\n",
    "> 相当于c++的三目运算符 A ? B : C\n"
   ]
  },
  {
   "cell_type": "code",
   "execution_count": 7,
   "metadata": {},
   "outputs": [
    {
     "data": {
      "text/plain": [
       "False"
      ]
     },
     "execution_count": 7,
     "metadata": {},
     "output_type": "execute_result"
    }
   ],
   "source": [
    "# Control Expressions\n",
    "\n",
    "\n",
    "def has_big_sqrt(x):\n",
    "    \"\"\"Return whether x has a big square root.\n",
    "\n",
    "    >>> has_big_sqrt(1000)\n",
    "    True\n",
    "    >>> has_big_sqrt(100)\n",
    "    False\n",
    "    >>> has_big_sqrt(0)\n",
    "    False\n",
    "    >>> has_big_sqrt(-1000)\n",
    "    False\n",
    "    \"\"\"\n",
    "    return x > 0 and sqrt(x) > 10\n",
    "\n",
    "\n",
    "def reasonable(n):\n",
    "    \"\"\"Is N small enough that 1/N can be represented?\n",
    "\n",
    "    >>> reasonable(100)\n",
    "    True\n",
    "    >>> reasonable(0)\n",
    "    True\n",
    "    >>> reasonable(-100)\n",
    "    True\n",
    "    >>> reasonable(10 ** 1000)\n",
    "    False\n",
    "    \"\"\"\n",
    "    return n == 0 or 1/n != 0.0\n",
    "\n",
    "reasonable(10 ** 1000)"
   ]
  }
 ],
 "metadata": {
  "kernelspec": {
   "display_name": "Python 3",
   "language": "python",
   "name": "python3"
  },
  "language_info": {
   "codemirror_mode": {
    "name": "ipython",
    "version": 3
   },
   "file_extension": ".py",
   "mimetype": "text/x-python",
   "name": "python",
   "nbconvert_exporter": "python",
   "pygments_lexer": "ipython3",
   "version": "3.8.5"
  }
 },
 "nbformat": 4,
 "nbformat_minor": 4
}
