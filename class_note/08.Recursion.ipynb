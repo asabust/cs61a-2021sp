{
 "cells": [
  {
   "cell_type": "markdown",
   "metadata": {},
   "source": [
    "# Recursion\n",
    "\n",
    "- Lecture 8: Recursion [Video](https://www.youtube.com/watch?v=Om_uZXRgOak&list=PL6BsET-8jgYVWfjkAMzMdoEy_j47rfrVd) [Q&A](https://youtu.be/9Gh2-siy-iU) [full](https://inst.eecs.berkeley.edu/~cs61a/fa20/assets/slides/08-Recursion_full.pdf) [1pp](https://inst.eecs.berkeley.edu/~cs61a/fa20/assets/slides/08-Recursion_1pp.pdf) [8pp](https://inst.eecs.berkeley.edu/~cs61a/fa20/assets/slides/08-Recursion_8pp.pdf) [08.py](https://code.cs61a.org/fa20/08.py)\n",
    "\n",
    "- Lecture 9: Tree Recursion [Video](https://www.youtube.com/watch?v=VRFqir6dTrg&list=PL6BsET-8jgYU1eWkdF45L1Pce1d4DxJcR) [Q&A](https://youtu.be/WY6ExkOu_uI) [full](https://inst.eecs.berkeley.edu/~cs61a/fa20/assets/slides/09-Tree_Recursion_full.pdf) [1pp](https://inst.eecs.berkeley.edu/~cs61a/fa20/assets/slides/09-Tree_Recursion_1pp.pdf) [8pp](https://inst.eecs.berkeley.edu/~cs61a/fa20/assets/slides/09-Tree_Recursion_8pp.pdf) [09.py](https://code.cs61a.org/fa20/09.py)\n",
    "\n",
    "- Week 4 Readings: [Ch. 1.7](http://composingprograms.com/pages/17-recursive-functions.html)"
   ]
  },
  {
   "cell_type": "markdown",
   "metadata": {},
   "source": [
    "### Recursive Functions\n",
    "\n",
    "Definition: A function is called recursive if the body of that function calls itself, either directly or indirectly \n",
    "\n",
    "Implication: Executing the body of a recursive function may require applying that function"
   ]
  },
  {
   "cell_type": "code",
   "execution_count": 2,
   "metadata": {},
   "outputs": [],
   "source": [
    "# Sum digits\n",
    "\n",
    "def split(n):\n",
    "    \"\"\"Split a positive integer into all but its last digit and its last digit.\"\"\"\n",
    "    return n // 10, n % 10\n",
    "\n",
    "def sum_digits(n):\n",
    "    \"\"\"Return the sum of the digits of positive integer n.\n",
    "\n",
    "    >>> sum_digits(9)\n",
    "    9\n",
    "    >>> sum_digits(18117)\n",
    "    18\n",
    "    >>> sum_digits(9437184)\n",
    "    36\n",
    "    >>> sum_digits(11408855402054064613470328848384)\n",
    "    126\n",
    "    \"\"\"\n",
    "    if n < 10:\n",
    "        return n\n",
    "    else:\n",
    "        all_but_last, last = split(n)\n",
    "        return sum_digits(all_but_last) + last\n"
   ]
  },
  {
   "cell_type": "code",
   "execution_count": 3,
   "metadata": {},
   "outputs": [
    {
     "data": {
      "text/plain": [
       "126"
      ]
     },
     "execution_count": 3,
     "metadata": {},
     "output_type": "execute_result"
    }
   ],
   "source": [
    "sum_digits(11408855402054064613470328848384)"
   ]
  },
  {
   "cell_type": "markdown",
   "metadata": {},
   "source": [
    "#### The Anatomy of a Recursive Function\n",
    "\n",
    "- The def statement header is similar to other functions\n",
    "- Conditional statements check for base cases(`if n<10`)\n",
    "- Base cases are evaluated without recursive calls(`return n`)\n",
    "- Recursive cases are evaluated with recursive calls(`else的部分`)"
   ]
  },
  {
   "cell_type": "code",
   "execution_count": 8,
   "metadata": {},
   "outputs": [
    {
     "name": "stdout",
     "output_type": "stream",
     "text": [
      "fizzbuzz\n",
      "1\n",
      "2\n",
      "fizz\n",
      "4\n",
      "buzz\n",
      "fizz\n",
      "7\n",
      "8\n",
      "fizz\n",
      "buzz\n",
      "11\n",
      "fizz\n",
      "13\n",
      "14\n",
      "fizzbuzz\n",
      "16\n"
     ]
    }
   ],
   "source": [
    "def fizzbuzz(n):\n",
    "    \"\"\"\n",
    "    >>> result = fizzbuzz(16)\n",
    "    1\n",
    "    2\n",
    "    fizz\n",
    "    4\n",
    "    buzz\n",
    "    fizz\n",
    "    7\n",
    "    8\n",
    "    fizz\n",
    "    buzz\n",
    "    11\n",
    "    fizz\n",
    "    13\n",
    "    14\n",
    "    fizzbuzz\n",
    "    16\n",
    "    >>> result == None\n",
    "    True\n",
    "    \"\"\"\n",
    "    for i in range(n+1):\n",
    "        if i % 3 == 0 and i % 5 == 0:\n",
    "            print('fizzbuzz')\n",
    "        elif i % 3 == 0:\n",
    "            print('fizz')\n",
    "        elif i % 5 == 0:\n",
    "            print('buzz')\n",
    "        else:\n",
    "            print(i)\n",
    "\n",
    "fizzbuzz(16)"
   ]
  },
  {
   "cell_type": "code",
   "execution_count": null,
   "metadata": {},
   "outputs": [],
   "source": []
  }
 ],
 "metadata": {
  "kernelspec": {
   "display_name": "Python 3",
   "language": "python",
   "name": "python3"
  },
  "language_info": {
   "codemirror_mode": {
    "name": "ipython",
    "version": 3
   },
   "file_extension": ".py",
   "mimetype": "text/x-python",
   "name": "python",
   "nbconvert_exporter": "python",
   "pygments_lexer": "ipython3",
   "version": "3.8.5"
  }
 },
 "nbformat": 4,
 "nbformat_minor": 4
}
