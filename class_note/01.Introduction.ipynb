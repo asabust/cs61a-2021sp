{
 "cells": [
  {
   "cell_type": "markdown",
   "metadata": {},
   "source": [
    "# An Introduction to Computer Science\n",
    "\n",
    "- Lecture 1: Computer Science [Video](https://www.youtube.com/watch?v=CoHCUimLmdM) [full](https://inst.eecs.berkeley.edu/~cs61a/fa20/assets/slides/01-Computer_Science_full.pdf) [1pp](https://inst.eecs.berkeley.edu/~cs61a/fa20/assets/slides/01-Computer_Science_1pp.pdf) [8pp](https://inst.eecs.berkeley.edu/~cs61a/fa20/assets/slides/01-Computer_Science_8pp.pdf) [01.py](https://code.cs61a.org/fa20/01.py)\n",
    "\n",
    "- Lecture 2: Functions [Video](https://www.youtube.com/watch?v=0kQKzc2yQQs&list=PL6BsET-8jgYUOR-QB-3KBQBgnQMGfGPb4) [Q&A](https://youtu.be/NGlzYXvDk5o) [full](https://inst.eecs.berkeley.edu/~cs61a/fa20/assets/slides/02-Functions_full.pdf) [1pp](https://inst.eecs.berkeley.edu/~cs61a/fa20/assets/slides/02-Functions_1pp.pdf) [8pp](https://inst.eecs.berkeley.edu/~cs61a/fa20/assets/slides/02-Functions_8pp.pdf) [02.py](https://code.cs61a.org/fa20/02.py)\n",
    "\n",
    "- Week 1 Readings: [Ch. 1.1](http://composingprograms.com/pages/11-getting-started.html) [Ch. 1.4](http://composingprograms.com/pages/14-designing-functions.html) [Ch. 1.3](http://composingprograms.com/pages/13-defining-new-functions.html) [Ch. 1.2](http://composingprograms.com/pages/12-elements-of-programming.html)"
   ]
  },
  {
   "cell_type": "markdown",
   "metadata": {},
   "source": [
    "## What is This Course About?\n",
    "\n",
    "- A course about managing complexity \n",
    "    - Mastering abstraction \n",
    "    - Programming paradigms\n",
    "- An introduction to programming \n",
    "    - Full understanding of Python fundamentals \n",
    "    - Combining multiple ideas in large projects \n",
    "    - How computers interpret programming languages\n",
    "- Different types of languages: Scheme & SQL\n",
    "- A challenging course that will demand a lot of you"
   ]
  },
  {
   "cell_type": "markdown",
   "metadata": {},
   "source": [
    "## Functions, Values, Objects, Interpreters, and Data\n",
    "\n",
    "本课程的5大部分。"
   ]
  },
  {
   "cell_type": "code",
   "execution_count": 2,
   "metadata": {},
   "outputs": [
    {
     "data": {
      "text/plain": [
       "2020"
      ]
     },
     "execution_count": 2,
     "metadata": {},
     "output_type": "execute_result"
    }
   ],
   "source": [
    "2020"
   ]
  },
  {
   "cell_type": "code",
   "execution_count": 3,
   "metadata": {},
   "outputs": [
    {
     "data": {
      "text/plain": [
       "2021"
      ]
     },
     "execution_count": 3,
     "metadata": {},
     "output_type": "execute_result"
    }
   ],
   "source": [
    "2000 + 21"
   ]
  },
  {
   "cell_type": "code",
   "execution_count": 4,
   "metadata": {},
   "outputs": [
    {
     "data": {
      "text/plain": [
       "'Gobears'"
      ]
     },
     "execution_count": 4,
     "metadata": {},
     "output_type": "execute_result"
    }
   ],
   "source": [
    "\"Gob\" + \"ears\" "
   ]
  },
  {
   "cell_type": "code",
   "execution_count": 6,
   "metadata": {},
   "outputs": [
    {
     "data": {
      "text/plain": [
       "980637"
      ]
     },
     "execution_count": 6,
     "metadata": {},
     "output_type": "execute_result"
    }
   ],
   "source": [
    "shakes = open('shakespeare.txt')\n",
    "text = shakes.read().split()\n",
    "len(text)"
   ]
  },
  {
   "cell_type": "code",
   "execution_count": 7,
   "metadata": {},
   "outputs": [
    {
     "data": {
      "text/plain": [
       "['A',\n",
       " \"MIDSUMMER-NIGHT'S\",\n",
       " 'DREAM',\n",
       " 'Now',\n",
       " ',',\n",
       " 'fair',\n",
       " 'Hippolyta',\n",
       " ',',\n",
       " 'our',\n",
       " 'nuptial',\n",
       " 'hour',\n",
       " 'Draws',\n",
       " 'on',\n",
       " 'apace',\n",
       " ':',\n",
       " 'four',\n",
       " 'happy',\n",
       " 'days',\n",
       " 'bring',\n",
       " 'in',\n",
       " 'Another',\n",
       " 'moon',\n",
       " ';',\n",
       " 'but',\n",
       " 'O']"
      ]
     },
     "execution_count": 7,
     "metadata": {},
     "output_type": "execute_result"
    }
   ],
   "source": [
    "# 前25个词\n",
    "text[:25]"
   ]
  },
  {
   "cell_type": "code",
   "execution_count": 9,
   "metadata": {},
   "outputs": [
    {
     "data": {
      "text/plain": [
       "23272"
      ]
     },
     "execution_count": 9,
     "metadata": {},
     "output_type": "execute_result"
    }
   ],
   "source": [
    "text.count('the')"
   ]
  },
  {
   "cell_type": "code",
   "execution_count": 10,
   "metadata": {},
   "outputs": [
    {
     "data": {
      "text/plain": [
       "4501"
      ]
     },
     "execution_count": 10,
     "metadata": {},
     "output_type": "execute_result"
    }
   ],
   "source": [
    "text.count('thou')"
   ]
  },
  {
   "cell_type": "code",
   "execution_count": 11,
   "metadata": {},
   "outputs": [
    {
     "data": {
      "text/plain": [
       "12361"
      ]
     },
     "execution_count": 11,
     "metadata": {},
     "output_type": "execute_result"
    }
   ],
   "source": [
    "text.count('you')"
   ]
  },
  {
   "cell_type": "code",
   "execution_count": 13,
   "metadata": {},
   "outputs": [
    {
     "data": {
      "text/plain": [
       "81827"
      ]
     },
     "execution_count": 13,
     "metadata": {},
     "output_type": "execute_result"
    }
   ],
   "source": [
    "text.count(',')"
   ]
  },
  {
   "cell_type": "code",
   "execution_count": 14,
   "metadata": {},
   "outputs": [
    {
     "data": {
      "text/plain": [
       "33505"
      ]
     },
     "execution_count": 14,
     "metadata": {},
     "output_type": "execute_result"
    }
   ],
   "source": [
    "# unique words\n",
    "words = set(text)\n",
    "len(words)"
   ]
  },
  {
   "cell_type": "code",
   "execution_count": 15,
   "metadata": {},
   "outputs": [
    {
     "data": {
      "text/plain": [
       "False"
      ]
     },
     "execution_count": 15,
     "metadata": {},
     "output_type": "execute_result"
    }
   ],
   "source": [
    "'computer' in words"
   ]
  },
  {
   "cell_type": "code",
   "execution_count": 16,
   "metadata": {},
   "outputs": [
    {
     "data": {
      "text/plain": [
       "'d'"
      ]
     },
     "execution_count": 16,
     "metadata": {},
     "output_type": "execute_result"
    }
   ],
   "source": [
    "'draw'[0]"
   ]
  },
  {
   "cell_type": "code",
   "execution_count": 18,
   "metadata": {},
   "outputs": [
    {
     "data": {
      "text/plain": [
       "71"
      ]
     },
     "execution_count": 18,
     "metadata": {},
     "output_type": "execute_result"
    }
   ],
   "source": [
    "len({w[0] for w in words})"
   ]
  },
  {
   "cell_type": "code",
   "execution_count": 19,
   "metadata": {},
   "outputs": [
    {
     "data": {
      "text/plain": [
       "'ward'"
      ]
     },
     "execution_count": 19,
     "metadata": {},
     "output_type": "execute_result"
    }
   ],
   "source": [
    "'draw'[::-1]"
   ]
  },
  {
   "cell_type": "code",
   "execution_count": 22,
   "metadata": {},
   "outputs": [
    {
     "data": {
      "text/plain": [
       "{'deed',\n",
       " 'ecce',\n",
       " 'elle',\n",
       " 'esse',\n",
       " 'level',\n",
       " 'madam',\n",
       " 'minim',\n",
       " 'noon',\n",
       " 'peep',\n",
       " 'poop',\n",
       " 'redder',\n",
       " 'refer',\n",
       " 'rever',\n",
       " 'sees'}"
      ]
     },
     "execution_count": 22,
     "metadata": {},
     "output_type": "execute_result"
    }
   ],
   "source": [
    "# words in Shakespeare thar are the same if i write them backwards\n",
    "\n",
    "{w for w in words if w == w[::-1] and len(w) > 3}"
   ]
  },
  {
   "cell_type": "code",
   "execution_count": 25,
   "metadata": {},
   "outputs": [
    {
     "data": {
      "text/plain": [
       "{'diaper', 'drawer', 'redder', 'repaid', 'reward'}"
      ]
     },
     "execution_count": 25,
     "metadata": {},
     "output_type": "execute_result"
    }
   ],
   "source": [
    "{w for w in words if w[::-1] in words and len(w) > 5}"
   ]
  }
 ],
 "metadata": {
  "kernelspec": {
   "display_name": "Python 3",
   "language": "python",
   "name": "python3"
  },
  "language_info": {
   "codemirror_mode": {
    "name": "ipython",
    "version": 3
   },
   "file_extension": ".py",
   "mimetype": "text/x-python",
   "name": "python",
   "nbconvert_exporter": "python",
   "pygments_lexer": "ipython3",
   "version": "3.8.5"
  }
 },
 "nbformat": 4,
 "nbformat_minor": 4
}
